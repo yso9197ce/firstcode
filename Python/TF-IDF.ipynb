{
 "cells": [
  {
   "cell_type": "markdown",
   "metadata": {},
   "source": [
    "# Tf-Idf\n",
    "#### TF（Term Frequency）表示某個關鍵詞在整篇文章中出現的頻率\n",
    "#### IDF（InversDocument Frequency）表示計算倒文本頻率。文本頻率是指某關鍵詞在整個語料\"所有文章\"中出現的次數"
   ]
  },
  {
   "cell_type": "markdown",
   "metadata": {},
   "source": [
    "# 計算詞頻"
   ]
  },
  {
   "cell_type": "code",
   "execution_count": 1,
   "metadata": {},
   "outputs": [
    {
     "name": "stdout",
     "output_type": "stream",
     "text": [
      "  (0, 1)\t1\n",
      "  (0, 2)\t1\n",
      "  (0, 6)\t1\n",
      "  (0, 3)\t1\n",
      "  (0, 8)\t1\n",
      "  (1, 5)\t2\n",
      "  (1, 1)\t1\n",
      "  (1, 6)\t1\n",
      "  (1, 3)\t1\n",
      "  (1, 8)\t1\n",
      "  (2, 4)\t1\n",
      "  (2, 7)\t1\n",
      "  (2, 0)\t1\n",
      "  (2, 6)\t1\n",
      "  (3, 1)\t1\n",
      "  (3, 2)\t1\n",
      "  (3, 6)\t1\n",
      "  (3, 3)\t1\n",
      "  (3, 8)\t1\n",
      "['and', 'document', 'first', 'is', 'one', 'second', 'the', 'third', 'this']\n",
      "[[0 1 1 1 0 0 1 0 1]\n",
      " [0 1 0 1 0 2 1 0 1]\n",
      " [1 0 0 0 1 0 1 1 0]\n",
      " [0 1 1 1 0 0 1 0 1]]\n"
     ]
    }
   ],
   "source": [
    "from  sklearn.feature_extraction.text  import  CountVectorizer  \n",
    "#sklearn.feature_extraction.text.CountVectorizer → Convert a collection of text documents to a matrix of token counts\n",
    "#CountVectorizer(input=\"data\", encoding=\"編碼\", lowercase=True)\n",
    "\n",
    "#語料  \n",
    "corpus = [  \n",
    "    'This is the first document.' ,  \n",
    "    'This is the second second document.' ,  \n",
    "    'And the third one.' ,  \n",
    "    'Is this the first document?' ,  \n",
    "]  \n",
    "#將文本中的詞語轉換為詞頻矩陣  \n",
    "vectorizer = CountVectorizer()  \n",
    "\n",
    "#計算詞語出現的次數\n",
    "#fit_transform(raw_documents[, y]) → Learn the vocabulary dictionary and return term-document matrix\n",
    "#以此例子:(0,1)→1  (0,2)→1  (0,6)→1  (0,3)→1  (0,8)→1 \n",
    "#代表第一行在['and', 'document', 'first', 'is', 'one', 'second', 'the', 'third', 'this']中，'document', 'first', 'is','the','this'各有一值(0不顯示)\n",
    "X = vectorizer.fit_transform(corpus)  \n",
    "\n",
    "#獲取詞袋中所有文本關鍵詞\n",
    "#get_feature_names() → Array mapping from feature integer indices to feature name\n",
    "word = vectorizer.get_feature_names()  \n",
    "\n",
    "print(X)\n",
    "print(word)  \n",
    "print(X.toarray())"
   ]
  },
  {
   "cell_type": "markdown",
   "metadata": {},
   "source": [
    "# 計算Tf-Idf"
   ]
  },
  {
   "cell_type": "code",
   "execution_count": 2,
   "metadata": {},
   "outputs": [
    {
     "name": "stdout",
     "output_type": "stream",
     "text": [
      "  (0, 8)\t0.438776742859\n",
      "  (0, 3)\t0.438776742859\n",
      "  (0, 6)\t0.358728738248\n",
      "  (0, 2)\t0.541976569726\n",
      "  (0, 1)\t0.438776742859\n",
      "  (1, 8)\t0.272301467523\n",
      "  (1, 3)\t0.272301467523\n",
      "  (1, 6)\t0.222624292325\n",
      "  (1, 1)\t0.272301467523\n",
      "  (1, 5)\t0.853225736145\n",
      "  (2, 6)\t0.28847674875\n",
      "  (2, 0)\t0.552805319991\n",
      "  (2, 7)\t0.552805319991\n",
      "  (2, 4)\t0.552805319991\n",
      "  (3, 8)\t0.438776742859\n",
      "  (3, 3)\t0.438776742859\n",
      "  (3, 6)\t0.358728738248\n",
      "  (3, 2)\t0.541976569726\n",
      "  (3, 1)\t0.438776742859\n",
      "[[ 0.          0.43877674  0.54197657  0.43877674  0.          0.\n",
      "   0.35872874  0.          0.43877674]\n",
      " [ 0.          0.27230147  0.          0.27230147  0.          0.85322574\n",
      "   0.22262429  0.          0.27230147]\n",
      " [ 0.55280532  0.          0.          0.          0.55280532  0.\n",
      "   0.28847675  0.55280532  0.        ]\n",
      " [ 0.          0.43877674  0.54197657  0.43877674  0.          0.\n",
      "   0.35872874  0.          0.43877674]]\n"
     ]
    }
   ],
   "source": [
    "from  sklearn.feature_extraction.text  import  TfidfTransformer  \n",
    "  \n",
    "\n",
    "transformer = TfidfTransformer()   # Transform a count matrix to a normalized tf or tf-idf representation\n",
    " \n",
    "#將詞頻矩陣X統計成TF-IDF值  \n",
    "tfidf = transformer.fit_transform(X)  \n",
    "#查看數據結構 tfidf[i][j]表示i類文本中的tf-idf權重  \n",
    "print(tfidf)\n",
    "print(tfidf.toarray())"
   ]
  },
  {
   "cell_type": "markdown",
   "metadata": {},
   "source": [
    "# 計算文件相似度"
   ]
  },
  {
   "cell_type": "code",
   "execution_count": 4,
   "metadata": {},
   "outputs": [
    {
     "name": "stdout",
     "output_type": "stream",
     "text": [
      "  (0, 8)\t0.438776742859\n",
      "  (0, 3)\t0.438776742859\n",
      "  (0, 6)\t0.358728738248\n",
      "  (0, 2)\t0.541976569726\n",
      "  (0, 1)\t0.438776742859\n"
     ]
    }
   ],
   "source": [
    "print(tfidf[0:1])     # tfidf[0:1]為第一行各詞的tfidf"
   ]
  },
  {
   "cell_type": "code",
   "execution_count": 5,
   "metadata": {},
   "outputs": [
    {
     "name": "stdout",
     "output_type": "stream",
     "text": [
      "  (0, 8)\t0.438776742859\n",
      "  (0, 3)\t0.438776742859\n",
      "  (0, 6)\t0.358728738248\n",
      "  (0, 2)\t0.541976569726\n",
      "  (0, 1)\t0.438776742859\n",
      "  (1, 8)\t0.272301467523\n",
      "  (1, 3)\t0.272301467523\n",
      "  (1, 6)\t0.222624292325\n",
      "  (1, 1)\t0.272301467523\n",
      "  (1, 5)\t0.853225736145\n",
      "  (2, 6)\t0.28847674875\n",
      "  (2, 0)\t0.552805319991\n",
      "  (2, 7)\t0.552805319991\n",
      "  (2, 4)\t0.552805319991\n",
      "  (3, 8)\t0.438776742859\n",
      "  (3, 3)\t0.438776742859\n",
      "  (3, 6)\t0.358728738248\n",
      "  (3, 2)\t0.541976569726\n",
      "  (3, 1)\t0.438776742859\n"
     ]
    }
   ],
   "source": [
    "print(tfidf)          # tfidf為全部文本的tfidf"
   ]
  },
  {
   "cell_type": "code",
   "execution_count": 6,
   "metadata": {},
   "outputs": [
    {
     "data": {
      "text/plain": [
       "array([[ 1.        ,  0.43830038,  0.1034849 ,  1.        ]])"
      ]
     },
     "execution_count": 6,
     "metadata": {},
     "output_type": "execute_result"
    }
   ],
   "source": [
    "from sklearn.metrics.pairwise import cosine_similarity\n",
    "cosine_similarity(tfidf[0:1], tfidf)    # cosine_similarity(X, Y=None, dense_output=True)"
   ]
  },
  {
   "cell_type": "code",
   "execution_count": null,
   "metadata": {
    "collapsed": true
   },
   "outputs": [],
   "source": [
    "# 因此可知第一行和第四行相似度高達1，和第三行只有0.103的相似度"
   ]
  }
 ],
 "metadata": {
  "kernelspec": {
   "display_name": "Python 3",
   "language": "python",
   "name": "python3"
  },
  "language_info": {
   "codemirror_mode": {
    "name": "ipython",
    "version": 3
   },
   "file_extension": ".py",
   "mimetype": "text/x-python",
   "name": "python",
   "nbconvert_exporter": "python",
   "pygments_lexer": "ipython3",
   "version": "3.6.1"
  }
 },
 "nbformat": 4,
 "nbformat_minor": 2
}
