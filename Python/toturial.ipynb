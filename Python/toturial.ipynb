{
 "cells": [
  {
   "cell_type": "markdown",
   "metadata": {},
   "source": [
    "## 前後雙底線"
   ]
  },
  {
   "cell_type": "code",
   "execution_count": 29,
   "metadata": {},
   "outputs": [
    {
     "name": "stdout",
     "output_type": "stream",
     "text": [
      "__name__:__main__\n"
     ]
    }
   ],
   "source": [
    "# __name__ 可以分辨此程式是被import當成模組(會顯示:__name__:import的module名) 還是被直接執行的(會顯示:__name__:__main__)\n",
    "print('__name__:' + __name__)\n",
    "\n",
    "#__init__(self)為建構子，至少一定要有個self"
   ]
  },
  {
   "cell_type": "markdown",
   "metadata": {},
   "source": [
    "## 前單底線"
   ]
  },
  {
   "cell_type": "code",
   "execution_count": 26,
   "metadata": {
    "collapsed": true
   },
   "outputs": [],
   "source": [
    "# 使用一個底線 _ 開頭的方法(或類別)，表示private methods，除了本身的module，其他module不能存取這個方法(或類別)\n",
    "\n",
    "class _myPy1:   #本身module可呼叫使用，其他module不可呼叫使用\n",
    "    def __init__(self):\n",
    "        print(\"my first python myPy1\")\n",
    "class myPy:     #本身和其他的module皆可呼叫使用\n",
    "    def __init__(self):\n",
    "        print(\"my first python myPy\")\n",
    "    \n",
    "def _useless():   #本身module可呼叫使用，其他module不可呼叫使用\n",
    "    print(123)\n",
    "def useful():     #本身和其他的module皆可呼叫使用\n",
    "    print(123)  "
   ]
  },
  {
   "cell_type": "markdown",
   "metadata": {},
   "source": [
    "## 前雙底線"
   ]
  },
  {
   "cell_type": "code",
   "execution_count": 22,
   "metadata": {},
   "outputs": [
    {
     "name": "stdout",
     "output_type": "stream",
     "text": [
      "test1\n"
     ]
    },
    {
     "ename": "AttributeError",
     "evalue": "'B' object has no attribute '__test2'",
     "output_type": "error",
     "traceback": [
      "\u001b[1;31m---------------------------------------------------------------------------\u001b[0m",
      "\u001b[1;31mAttributeError\u001b[0m                            Traceback (most recent call last)",
      "\u001b[1;32m<ipython-input-22-b9a7cf65b8bd>\u001b[0m in \u001b[0;36m<module>\u001b[1;34m()\u001b[0m\n\u001b[0;32m     13\u001b[0m \u001b[0mb\u001b[0m \u001b[1;33m=\u001b[0m \u001b[0mB\u001b[0m\u001b[1;33m(\u001b[0m\u001b[1;33m)\u001b[0m\u001b[1;33m\u001b[0m\u001b[0m\n\u001b[0;32m     14\u001b[0m \u001b[0mb\u001b[0m\u001b[1;33m.\u001b[0m\u001b[0mtest1\u001b[0m\u001b[1;33m(\u001b[0m\u001b[1;33m)\u001b[0m\u001b[1;33m\u001b[0m\u001b[0m\n\u001b[1;32m---> 15\u001b[1;33m \u001b[0mb\u001b[0m\u001b[1;33m.\u001b[0m\u001b[0m__test2\u001b[0m\u001b[1;33m(\u001b[0m\u001b[1;33m)\u001b[0m\u001b[1;33m\u001b[0m\u001b[0m\n\u001b[0m",
      "\u001b[1;31mAttributeError\u001b[0m: 'B' object has no attribute '__test2'"
     ]
    }
   ],
   "source": [
    "# 使用雙底線 __ 開頭的類別是無法被繼承的\n",
    "\n",
    "class A(object):\n",
    "    def __init__(self):\n",
    "            pass \n",
    "    def test1(self):  #可被繼承\n",
    "            print(\"test1\")\n",
    "    def __test2(self):  #不可被繼承\n",
    "            print(\"test2\")\n",
    "            \n",
    "class B(A):\n",
    "    def __init__(self):\n",
    "            pass\n",
    "            \n",
    "b = B()\n",
    "b.test1()   \n",
    "b.__test2()"
   ]
  },
  {
   "cell_type": "markdown",
   "metadata": {},
   "source": [
    "## 不定參數函數 *"
   ]
  },
  {
   "cell_type": "code",
   "execution_count": 7,
   "metadata": {},
   "outputs": [
    {
     "name": "stdout",
     "output_type": "stream",
     "text": [
      "15\n",
      "72\n"
     ]
    }
   ],
   "source": [
    "# 輸入參數前有*即代表可輸入任意數量的參數\n",
    "\n",
    "def sum(*numbers):   \n",
    "    total = 0\n",
    "    for number in numbers:\n",
    "        total += number\n",
    "    return total\n",
    "\n",
    "print(sum(1,2,3,4,5))\n",
    "print(sum(2,4,6,8,10,12,14,16))"
   ]
  },
  {
   "cell_type": "markdown",
   "metadata": {},
   "source": [
    "## 字典參數函數 **"
   ]
  },
  {
   "cell_type": "code",
   "execution_count": 30,
   "metadata": {},
   "outputs": [
    {
     "name": "stdout",
     "output_type": "stream",
     "text": [
      "{'name': 'Andy', 'age': 18, 'job': 'engineering'}\n"
     ]
    },
    {
     "ename": "TypeError",
     "evalue": "person() takes 0 positional arguments but 3 were given",
     "output_type": "error",
     "traceback": [
      "\u001b[1;31m----------------------------------------------------------------------\u001b[0m",
      "\u001b[1;31mTypeError\u001b[0m                            Traceback (most recent call last)",
      "\u001b[1;32m<ipython-input-30-9fbeb9787663>\u001b[0m in \u001b[0;36m<module>\u001b[1;34m()\u001b[0m\n\u001b[0;32m      5\u001b[0m \u001b[1;33m\u001b[0m\u001b[0m\n\u001b[0;32m      6\u001b[0m \u001b[0mperson\u001b[0m\u001b[1;33m(\u001b[0m\u001b[0mname\u001b[0m \u001b[1;33m=\u001b[0m \u001b[1;34m'Andy'\u001b[0m\u001b[1;33m,\u001b[0m\u001b[0mage\u001b[0m \u001b[1;33m=\u001b[0m \u001b[1;36m18\u001b[0m\u001b[1;33m,\u001b[0m\u001b[0mjob\u001b[0m \u001b[1;33m=\u001b[0m \u001b[1;34m'engineering'\u001b[0m\u001b[1;33m)\u001b[0m   \u001b[1;31m#OK，輸入字典型態的參數\u001b[0m\u001b[1;33m\u001b[0m\u001b[0m\n\u001b[1;32m----> 7\u001b[1;33m \u001b[0mperson\u001b[0m\u001b[1;33m(\u001b[0m\u001b[1;36m1\u001b[0m\u001b[1;33m,\u001b[0m\u001b[1;36m2\u001b[0m\u001b[1;33m,\u001b[0m\u001b[1;36m3\u001b[0m\u001b[1;33m)\u001b[0m   \u001b[1;31m#error，非輸入字典型態的參數\u001b[0m\u001b[1;33m\u001b[0m\u001b[0m\n\u001b[0m",
      "\u001b[1;31mTypeError\u001b[0m: person() takes 0 positional arguments but 3 were given"
     ]
    }
   ],
   "source": [
    "# 輸入參數前有**即代表需輸入字典型態的參數\n",
    "\n",
    "def person(**args):\n",
    "    print(args)\n",
    "\n",
    "person(name = 'Andy',age = 18,job = 'engineering')   #OK，輸入字典型態的參數\n",
    "person(1,2,3)   #error，非輸入字典型態的參數"
   ]
  },
  {
   "cell_type": "markdown",
   "metadata": {},
   "source": [
    "## 函式重載"
   ]
  },
  {
   "cell_type": "code",
   "execution_count": 41,
   "metadata": {},
   "outputs": [
    {
     "name": "stdout",
     "output_type": "stream",
     "text": [
      "6\n"
     ]
    },
    {
     "ename": "TypeError",
     "evalue": "sum() missing 1 required positional argument: 'c'",
     "output_type": "error",
     "traceback": [
      "\u001b[1;31m----------------------------------------------------------------------\u001b[0m",
      "\u001b[1;31mTypeError\u001b[0m                            Traceback (most recent call last)",
      "\u001b[1;32m<ipython-input-41-0eff0981f24c>\u001b[0m in \u001b[0;36m<module>\u001b[1;34m()\u001b[0m\n\u001b[0;32m      8\u001b[0m \u001b[1;33m\u001b[0m\u001b[0m\n\u001b[0;32m      9\u001b[0m \u001b[0mprint\u001b[0m\u001b[1;33m(\u001b[0m\u001b[0msum\u001b[0m\u001b[1;33m(\u001b[0m\u001b[1;36m1\u001b[0m\u001b[1;33m,\u001b[0m\u001b[1;36m2\u001b[0m\u001b[1;33m,\u001b[0m\u001b[1;36m3\u001b[0m\u001b[1;33m)\u001b[0m\u001b[1;33m)\u001b[0m\u001b[1;33m\u001b[0m\u001b[0m\n\u001b[1;32m---> 10\u001b[1;33m \u001b[0mprint\u001b[0m\u001b[1;33m(\u001b[0m\u001b[0msum\u001b[0m\u001b[1;33m(\u001b[0m\u001b[1;36m1\u001b[0m\u001b[1;33m,\u001b[0m\u001b[1;36m2\u001b[0m\u001b[1;33m)\u001b[0m\u001b[1;33m)\u001b[0m\u001b[1;33m\u001b[0m\u001b[0m\n\u001b[0m",
      "\u001b[1;31mTypeError\u001b[0m: sum() missing 1 required positional argument: 'c'"
     ]
    }
   ],
   "source": [
    "# python無法函式重載，只能依靠預設參數來解決\n",
    "\n",
    "def sum(a, b):\n",
    "    return a + b\n",
    "\n",
    "def sum(a, b, c):     #python無法函式重載，因此如果你定義了兩個函式具有相同的名稱但擁有不同的參數個數，則後者定義會覆蓋前者定義\n",
    "    return a + b + c\n",
    " \n",
    "print(sum(1,2,3))\n",
    "print(sum(1,2))"
   ]
  },
  {
   "cell_type": "code",
   "execution_count": 42,
   "metadata": {},
   "outputs": [
    {
     "name": "stdout",
     "output_type": "stream",
     "text": [
      "6\n",
      "3\n"
     ]
    }
   ],
   "source": [
    "def sum(a, b, c = 0):\n",
    "    return a + b + c\n",
    "\n",
    "print(sum(1,2,3))   \n",
    "print(sum(1,2)) "
   ]
  },
  {
   "cell_type": "markdown",
   "metadata": {},
   "source": [
    "## 函式定義"
   ]
  },
  {
   "cell_type": "code",
   "execution_count": 55,
   "metadata": {},
   "outputs": [
    {
     "name": "stdout",
     "output_type": "stream",
     "text": [
      "5\n",
      "========================================\n",
      "[1]\n",
      "[1, 2]\n",
      "[1, 2, 3]\n",
      "[3]\n"
     ]
    }
   ],
   "source": [
    "# 函式定義只會做最開始的一次\n",
    "\n",
    "i = 5\n",
    "def f(arg=i):\n",
    "    print(arg)\n",
    "i = 6   #f()函式中的i值已被定義為5了，後面再更動i值也不受影響\n",
    "f()\n",
    "\n",
    "print(\"========================================\")\n",
    "\n",
    "#但若是可變物件(list、dictionary、class)則會受影響\n",
    "\n",
    "def f(a, L=[]):   \n",
    "    L.append(a)\n",
    "    return L\n",
    "\n",
    "print(f(1))\n",
    "print(f(2))\n",
    "print(f(3))\n",
    "print(f(3,[]))"
   ]
  },
  {
   "cell_type": "markdown",
   "metadata": {
    "collapsed": true
   },
   "source": [
    "## break與迴圈內的else"
   ]
  },
  {
   "cell_type": "code",
   "execution_count": 5,
   "metadata": {},
   "outputs": [
    {
     "name": "stdout",
     "output_type": "stream",
     "text": [
      "2 是質數\n",
      "3 是質數\n",
      "4 不是質數\n",
      "5 是質數\n",
      "6 不是質數\n",
      "7 是質數\n",
      "8 不是質數\n",
      "9 不是質數\n",
      "10 不是質數\n",
      "11 是質數\n",
      "12 不是質數\n",
      "13 是質數\n",
      "14 不是質數\n",
      "15 不是質數\n",
      "16 不是質數\n",
      "17 是質數\n",
      "18 不是質數\n",
      "19 是質數\n"
     ]
    }
   ],
   "source": [
    "# break會跳脫出此層的for 或while 迴圈\n",
    "# 迴圈可帶一個else 段落，當for 跑完所有的流程即執行else，遇到break 則不執行\n",
    "\n",
    "for n in range(2,20):\n",
    "    for x in range(2,n):\n",
    "        if n % x == 0:\n",
    "            print(n,'不是質數')\n",
    "            break;   #若執行到break，則連else一併跳出不會執行else \n",
    "    else:  #此else是與 for x in range(2,n): 成對的，不是和if 成對\n",
    "        print(n,'是質數')"
   ]
  },
  {
   "cell_type": "markdown",
   "metadata": {
    "collapsed": true
   },
   "source": [
    "## continue"
   ]
  },
  {
   "cell_type": "code",
   "execution_count": 7,
   "metadata": {},
   "outputs": [
    {
     "name": "stdout",
     "output_type": "stream",
     "text": [
      "2 是偶數\n",
      "3 不是偶數\n",
      "4 是偶數\n",
      "5 不是偶數\n",
      "6 是偶數\n",
      "7 不是偶數\n",
      "8 是偶數\n",
      "9 不是偶數\n",
      "10 是偶數\n",
      "11 不是偶數\n",
      "12 是偶數\n",
      "13 不是偶數\n",
      "14 是偶數\n",
      "15 不是偶數\n",
      "16 是偶數\n",
      "17 不是偶數\n",
      "18 是偶數\n",
      "19 不是偶數\n"
     ]
    }
   ],
   "source": [
    "# continue 若執行會讓後面的語句皆忽略，直接從下一個迭代開始\n",
    "\n",
    "for x in range(2,20):\n",
    "    if x % 2 == 0:\n",
    "        print(x,'是偶數')\n",
    "        continue\n",
    "    print(x,'不是偶數')"
   ]
  },
  {
   "cell_type": "markdown",
   "metadata": {},
   "source": [
    "## 費式數列"
   ]
  },
  {
   "cell_type": "code",
   "execution_count": 21,
   "metadata": {},
   "outputs": [
    {
     "name": "stdout",
     "output_type": "stream",
     "text": [
      "0 1 1 2 3 5 8 13 21 34 55 89 144 233 377 610 987 1597 2584 4181 "
     ]
    }
   ],
   "source": [
    "def fib(n):    \n",
    "    a, b = 0, 1\n",
    "    while a < n:\n",
    "        print(a, end=' ')  #印出a值，並留空白接續(不會換行)\n",
    "        a, b = b, a+b    #可同時將兩變數給值\n",
    "    \n",
    "fib(5000)"
   ]
  },
  {
   "cell_type": "markdown",
   "metadata": {
    "collapsed": true
   },
   "source": [
    "## List(有序可重複)"
   ]
  },
  {
   "cell_type": "code",
   "execution_count": 14,
   "metadata": {},
   "outputs": [
    {
     "name": "stdout",
     "output_type": "stream",
     "text": [
      "[6, 4, 3, 2, 1.5]\n",
      "3\n",
      "1\n"
     ]
    }
   ],
   "source": [
    "list = [1,2,3]\n",
    "list2 = [4,5,6]\n",
    "list.extend(list2)   #list串接list2 → [1,2,3,4,5,6]\n",
    "list.insert(1,1.5)   #在index = 1處插入1.5 → [1,1.5,2,3,4,5,6]\n",
    "list.remove(5)       #刪掉5 → [1,1.5,2,3,4,6]\n",
    "list.reverse()       #反轉list的順序 → [6,4.3,2,1.5,1]\n",
    "list.pop()           #移除list最後一個值 → [6,4.3,2,1.5]\n",
    "\n",
    "print(list)\n",
    "print(list.index(2)) #印出2在list的index\n",
    "print(list.count(2)) #印出2在list中出現幾次"
   ]
  },
  {
   "cell_type": "code",
   "execution_count": 25,
   "metadata": {},
   "outputs": [
    {
     "data": {
      "text/plain": [
       "[[1, 5, 9], [2, 6, 10], [3, 7, 11], [4, 8, 12]]"
      ]
     },
     "execution_count": 25,
     "metadata": {},
     "output_type": "execute_result"
    }
   ],
   "source": [
    "#二維陣列轉置\n",
    "\n",
    "matrix = [[1,2,3,4],\n",
    "          [5,6,7,8],\n",
    "          [9,10,11,12]]\n",
    "\n",
    "transpose = []\n",
    "for i in range(4):\n",
    "    transpose_row = []\n",
    "    for row in matrix:\n",
    "        transpose_row.append(row[i])\n",
    "    transpose.append(transpose_row)\n",
    "transpose"
   ]
  },
  {
   "cell_type": "markdown",
   "metadata": {
    "collapsed": true
   },
   "source": [
    "## Tuple"
   ]
  },
  {
   "cell_type": "code",
   "execution_count": 1,
   "metadata": {},
   "outputs": [
    {
     "name": "stdout",
     "output_type": "stream",
     "text": [
      "123\n"
     ]
    },
    {
     "ename": "TypeError",
     "evalue": "'tuple' object does not support item assignment",
     "output_type": "error",
     "traceback": [
      "\u001b[1;31m----------------------------------------------------------------------\u001b[0m",
      "\u001b[1;31mTypeError\u001b[0m                            Traceback (most recent call last)",
      "\u001b[1;32m<ipython-input-1-55a8a81f4d9a>\u001b[0m in \u001b[0;36m<module>\u001b[1;34m()\u001b[0m\n\u001b[0;32m      1\u001b[0m \u001b[0mtuple\u001b[0m \u001b[1;33m=\u001b[0m \u001b[1;33m(\u001b[0m\u001b[1;36m123\u001b[0m\u001b[1;33m,\u001b[0m\u001b[1;33m-\u001b[0m\u001b[1;36m0.2\u001b[0m\u001b[1;33m,\u001b[0m\u001b[1;34m\"hello\"\u001b[0m\u001b[1;33m)\u001b[0m  \u001b[1;31m#tuple以()表示\u001b[0m\u001b[1;33m\u001b[0m\u001b[0m\n\u001b[0;32m      2\u001b[0m \u001b[0mprint\u001b[0m\u001b[1;33m(\u001b[0m\u001b[0mtuple\u001b[0m\u001b[1;33m[\u001b[0m\u001b[1;36m0\u001b[0m\u001b[1;33m]\u001b[0m\u001b[1;33m)\u001b[0m      \u001b[1;31m#用index操作\u001b[0m\u001b[1;33m\u001b[0m\u001b[0m\n\u001b[1;32m----> 3\u001b[1;33m \u001b[0mtuple\u001b[0m\u001b[1;33m[\u001b[0m\u001b[1;36m0\u001b[0m\u001b[1;33m]\u001b[0m \u001b[1;33m=\u001b[0m \u001b[1;36m456\u001b[0m       \u001b[1;31m#無法更動值\u001b[0m\u001b[1;33m\u001b[0m\u001b[0m\n\u001b[0m",
      "\u001b[1;31mTypeError\u001b[0m: 'tuple' object does not support item assignment"
     ]
    }
   ],
   "source": [
    "tuple = (123,-0.2,\"hello\")  #tuple以()表示\n",
    "print(tuple[0])      #用index操作\n",
    "tuple[0] = 456       #無法更動值"
   ]
  },
  {
   "cell_type": "markdown",
   "metadata": {
    "collapsed": true
   },
   "source": [
    "## Set(無序不重複)"
   ]
  },
  {
   "cell_type": "code",
   "execution_count": 48,
   "metadata": {},
   "outputs": [
    {
     "data": {
      "text/plain": [
       "{'a', 'd', 'good'}"
      ]
     },
     "execution_count": 48,
     "metadata": {},
     "output_type": "execute_result"
    }
   ],
   "source": [
    "basket = {'apple','banana','candy','candy'}   #創建set，裡面的元素不會重複\n",
    "box = set()   #創建空的set(若box = {}，則會創建空的\"字典\")\n",
    "box.add('good')    #加入元素 → {good'}\n",
    "box.update('bad')  #拆分後加入 → {'a', 'b', 'd', 'good'}\n",
    "box.remove('b')    #移除元素 → {'a', 'd', 'good'}\n",
    "box"
   ]
  },
  {
   "cell_type": "markdown",
   "metadata": {
    "collapsed": true
   },
   "source": [
    "## 序列迴圈"
   ]
  },
  {
   "cell_type": "code",
   "execution_count": 60,
   "metadata": {},
   "outputs": [
    {
     "name": "stdout",
     "output_type": "stream",
     "text": [
      "A D G\n",
      "B E H\n",
      "C F I\n",
      "=======================\n",
      "0 A\n",
      "1 B\n",
      "2 C\n",
      "=======================\n",
      "C\n",
      "B\n",
      "A\n"
     ]
    }
   ],
   "source": [
    "a = ['A','B','C']\n",
    "b = ['D','E','F']\n",
    "c = ['G','H','I']\n",
    "\n",
    "#同時對兩個以上的陣列取迴圈用zip\n",
    "for i,j,k in zip(a,b,c):\n",
    "    print(i,j,k)\n",
    "print('=======================')\n",
    "\n",
    "#同時印出index用enumerate\n",
    "for i,j in enumerate(a):\n",
    "    print(i,j)\n",
    "print('=======================')\n",
    "\n",
    "#反向印出值用reversed\n",
    "for i in reversed(a):\n",
    "    print(i)"
   ]
  },
  {
   "cell_type": "markdown",
   "metadata": {
    "collapsed": true
   },
   "source": [
    "## Scope"
   ]
  },
  {
   "cell_type": "code",
   "execution_count": 70,
   "metadata": {},
   "outputs": [
    {
     "name": "stdout",
     "output_type": "stream",
     "text": [
      "do_local(): 初始值\n",
      "do_nonlocal(): 改變前封閉區域的test\n",
      "do_global(): 改變前封閉區域的test\n",
      "In global scope: 改變全局的test\n"
     ]
    }
   ],
   "source": [
    "test = \"初始值\"\n",
    "def scope_test():\n",
    "    test = \"初始值\"\n",
    "    def do_local():\n",
    "        test = \"只改變此區域的test\"\n",
    "    def do_nonlocal():\n",
    "        nonlocal test   #定義此test在此scope中的賦值會影響scope_test作用域中的test\n",
    "        test = \"改變scope_test區域的test\"\n",
    "    def do_global():\n",
    "        global test     #定義此test在此scope中的賦值會影響全域的test\n",
    "        test = \"改變全局的test\"\n",
    "    \n",
    "\n",
    "    #do_local函数内部的赋值只影響自身function不影響其他作用域的test\n",
    "    do_local()\n",
    "    print(\"do_local():\", test)\n",
    "\n",
    "    #do_nonlocal函数内部的赋值scope_test作用域的test，但是不影響全局的test\n",
    "    do_nonlocal()\n",
    "    print(\"do_nonlocal():\", test)\n",
    "\n",
    "    #do_global函数内部的赋值影響全局的test，但是不影響scope_test作用域的test\n",
    "    do_global()\n",
    "    print(\"do_global():\", test)\n",
    "\n",
    "scope_test()\n",
    "print(\"In global scope:\", test)"
   ]
  },
  {
   "cell_type": "markdown",
   "metadata": {},
   "source": [
    "## Class"
   ]
  },
  {
   "cell_type": "code",
   "execution_count": 19,
   "metadata": {},
   "outputs": [],
   "source": [
    "class Dog:\n",
    "    kind = \"labulado\"   #類別變數，所有創出的物件共用\n",
    "    tricks = []\n",
    "    def __init__(self,name):\n",
    "        self.name = name\n",
    "    def add_trick(self,trick):\n",
    "        self.tricks.append(trick)"
   ]
  },
  {
   "cell_type": "code",
   "execution_count": 20,
   "metadata": {},
   "outputs": [
    {
     "name": "stdout",
     "output_type": "stream",
     "text": [
      "labulado\n",
      "labulado\n",
      "pocky\n",
      "wonwon\n",
      "['shake hands', 'play dead']\n",
      "['shake hands', 'play dead']\n"
     ]
    }
   ],
   "source": [
    "a = Dog(\"pocky\")\n",
    "b = Dog(\"wonwon\")\n",
    "a.add_trick(\"shake hands\")\n",
    "b.add_trick(\"play dead\")\n",
    "print(a.kind)\n",
    "print(b.kind)\n",
    "print(a.name)\n",
    "print(b.name)\n",
    "print(a.tricks)\n",
    "print(b.tricks)"
   ]
  },
  {
   "cell_type": "code",
   "execution_count": 21,
   "metadata": {
    "collapsed": true
   },
   "outputs": [],
   "source": [
    "class Dog:\n",
    "    kind = \"labulado\"   #類別變數，所有創出的物件共用    \n",
    "    def __init__(self,name):\n",
    "        self.name = name\n",
    "        self.tricks = []\n",
    "    def add_trick(self,trick):\n",
    "        self.tricks.append(trick)"
   ]
  },
  {
   "cell_type": "code",
   "execution_count": 22,
   "metadata": {},
   "outputs": [
    {
     "name": "stdout",
     "output_type": "stream",
     "text": [
      "labulado\n",
      "labulado\n",
      "pocky\n",
      "wonwon\n",
      "['shake hands']\n",
      "['play dead']\n"
     ]
    }
   ],
   "source": [
    "a = Dog(\"pocky\")\n",
    "b = Dog(\"wonwon\")\n",
    "a.add_trick(\"shake hands\")\n",
    "b.add_trick(\"play dead\")\n",
    "print(a.kind)\n",
    "print(b.kind)\n",
    "print(a.name)\n",
    "print(b.name)\n",
    "print(a.tricks)\n",
    "print(b.tricks)"
   ]
  },
  {
   "cell_type": "code",
   "execution_count": null,
   "metadata": {
    "collapsed": true
   },
   "outputs": [],
   "source": []
  },
  {
   "cell_type": "code",
   "execution_count": null,
   "metadata": {
    "collapsed": true
   },
   "outputs": [],
   "source": []
  },
  {
   "cell_type": "code",
   "execution_count": null,
   "metadata": {
    "collapsed": true
   },
   "outputs": [],
   "source": []
  }
 ],
 "metadata": {
  "kernelspec": {
   "display_name": "Python 3",
   "language": "python",
   "name": "python3"
  },
  "language_info": {
   "codemirror_mode": {
    "name": "ipython",
    "version": 3
   },
   "file_extension": ".py",
   "mimetype": "text/x-python",
   "name": "python",
   "nbconvert_exporter": "python",
   "pygments_lexer": "ipython3",
   "version": "3.6.1"
  }
 },
 "nbformat": 4,
 "nbformat_minor": 2
}
