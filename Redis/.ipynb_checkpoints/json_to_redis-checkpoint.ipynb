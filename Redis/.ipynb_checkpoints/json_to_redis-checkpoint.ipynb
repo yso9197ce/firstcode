{
 "cells": [
  {
   "cell_type": "code",
   "execution_count": 108,
   "metadata": {},
   "outputs": [
    {
     "data": {
      "text/plain": [
       "True"
      ]
     },
     "execution_count": 108,
     "metadata": {},
     "output_type": "execute_result"
    }
   ],
   "source": [
    "import json\n",
    "import redis\n",
    "r = redis.StrictRedis(host='localhost', port=6379, db=0,decode_responses=True)\n",
    "r.ping()"
   ]
  },
  {
   "cell_type": "code",
   "execution_count": 117,
   "metadata": {},
   "outputs": [],
   "source": [
    "\n",
    "#.delete('pong')\n",
    "dataset = []\n",
    "file = open('w2v_json.json','r')\n",
    "for line in file.readlines():\n",
    "    data = json.loads(line)\n",
    "    value = ','.join([data['p1'],data['p2'],data['p3'],data['p4'],data['p5']])\n",
    "    key = data['plu_name']\n",
    "    newdata = {key:value}\n",
    "    dataset.append(newdata)\n",
    "\n",
    "for item in dataset:\n",
    "    r.hmset('pong',item)\n",
    "\n",
    "    "
   ]
  },
  {
   "cell_type": "code",
   "execution_count": 118,
   "metadata": {},
   "outputs": [
    {
     "data": {
      "text/plain": [
       "'29元綜合造型髮束AD0011,19元綜合造型髮束AD0005,15元綜合造型髮束AD0003,29元綜合造型髮夾AD0012,B13髮帶'"
      ]
     },
     "execution_count": 118,
     "metadata": {},
     "output_type": "execute_result"
    }
   ],
   "source": [
    "aaaa = r.hgetall('pong')\n",
    "r.hget('pong','10元綜合造型髮束AD0001')"
   ]
  }
 ],
 "metadata": {
  "anaconda-cloud": {},
  "kernelspec": {
   "display_name": "Python 3",
   "language": "python",
   "name": "python3"
  },
  "language_info": {
   "codemirror_mode": {
    "name": "ipython",
    "version": 3
   },
   "file_extension": ".py",
   "mimetype": "text/x-python",
   "name": "python",
   "nbconvert_exporter": "python",
   "pygments_lexer": "ipython3",
   "version": "3.6.1"
  }
 },
 "nbformat": 4,
 "nbformat_minor": 1
}
