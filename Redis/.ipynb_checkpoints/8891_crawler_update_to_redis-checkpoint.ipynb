{
 "cells": [
  {
   "cell_type": "code",
   "execution_count": 5,
   "metadata": {},
   "outputs": [
    {
     "name": "stdout",
     "output_type": "stream",
     "text": [
      "33790\n",
      "\n",
      "data upload finished\n"
     ]
    }
   ],
   "source": [
    "class mySQL_project:\n",
    "    IP = '192.168.196.36'\n",
    "    passwd = 'team1'\n",
    "    \n",
    "class Redisdb:\n",
    "    host = '192.168.196.172'\n",
    "    port = '6379'\n",
    "    password = 'team1'\n",
    "    \n",
    "def push_to_redis(links):\n",
    "    import redis\n",
    "    que = redis.StrictRedis(host=Redisdb.host, port=Redisdb.port, db=0, password=Redisdb.password)\n",
    "    i=0\n",
    "    for link in links:\n",
    "        que.rpush('8891_update_url', link[0])\n",
    "        i+=1\n",
    "    \n",
    "def get_database_data():\n",
    "    import pymysql\n",
    "\n",
    "    conn = pymysql.connect(host=mySQL_project.IP, port=3306,\n",
    "                           user='team1', passwd=mySQL_project.passwd, db='team1', charset='utf8')\n",
    "    #     cur.set_character_set('utf8')\n",
    "    c = conn.cursor()\n",
    "    existing_data = []\n",
    "    sql = \"select url from final_carPrice where source ='{}' and (deal != '1' or deal is null)\"\n",
    "    c.execute(sql.format('8891'))\n",
    "    for row in c:\n",
    "        existing_data.append(row)\n",
    "    conn.commit()\n",
    "    conn.close()\n",
    "    return existing_data\n",
    "# def update_to_mysql(url):\n",
    "#     import pymysql\n",
    "#     from datetime import datetime\n",
    "#     today = datetime.today()\n",
    "#     sql = 'UPDATE final_carPrice SET deal = 1 and offtime = \"{}\" where url = \"{}\"'\n",
    "#     while True:\n",
    "#         try:\n",
    "#             conn = pymysql.connect(host=mySQL_project.IP, port=3306,\n",
    "#                                    user='team1', passwd=mySQL_project.passwd, db='team1', charset='utf8')\n",
    "#             break\n",
    "#         except pymysql.OperationalError:\n",
    "#             pass\n",
    "#     c = conn.cursor()\n",
    "#     try:\n",
    "#         c.execute(sql.format(today,url))\n",
    "#         conn.commit()\n",
    "#         conn.close()\n",
    "#     except Exception as e:\n",
    "#         print(\"add_to_mysql : \",e)\n",
    "#         conn.rollback()\n",
    "#         conn.close\n",
    "        \n",
    "if __name__==\"__main__\":\n",
    "    import redis\n",
    "    que = redis.StrictRedis(host=Redisdb.host, port=Redisdb.port, db=0, password=Redisdb.password)\n",
    "    que.delete('8891_update_url')\n",
    "    existing_data = get_database_data()\n",
    "    print(len(existing_data))\n",
    "    push_to_redis(existing_data)\n",
    "    end = ['end']*20\n",
    "    push_to_redis(end)\n",
    "    print('\\n'+'data upload finished')"
   ]
  },
  {
   "cell_type": "code",
   "execution_count": null,
   "metadata": {
    "collapsed": true
   },
   "outputs": [],
   "source": []
  }
 ],
 "metadata": {
  "anaconda-cloud": {},
  "kernelspec": {
   "display_name": "Python 3",
   "language": "python",
   "name": "python3"
  },
  "language_info": {
   "codemirror_mode": {
    "name": "ipython",
    "version": 3
   },
   "file_extension": ".py",
   "mimetype": "text/x-python",
   "name": "python",
   "nbconvert_exporter": "python",
   "pygments_lexer": "ipython3",
   "version": "3.6.1"
  }
 },
 "nbformat": 4,
 "nbformat_minor": 2
}
